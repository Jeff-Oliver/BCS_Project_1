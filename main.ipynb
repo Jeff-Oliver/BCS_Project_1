{
 "cells": [
  {
   "cell_type": "code",
   "execution_count": 1,
   "metadata": {},
   "outputs": [],
   "source": [
    "# Our primary dataset can be found at:\n",
    "# https://www.kaggle.com/datasets/asaniczka/tmdb-movies-dataset-2023-930k-movies\n",
    "# The file is over 500MB - too big for github!"
   ]
  },
  {
   "cell_type": "code",
   "execution_count": 1,
   "metadata": {},
   "outputs": [],
   "source": [
    "# import dependencies\n",
    "import pandas as pd\n",
    "import requests\n",
    "import os\n",
    "from dotenv import load_dotenv\n",
    "import json\n",
    "import subprocess"
   ]
  },
  {
   "cell_type": "code",
   "execution_count": 2,
   "metadata": {},
   "outputs": [
    {
     "name": "stdout",
     "output_type": "stream",
     "text": [
      "Index(['id', 'title', 'vote_average', 'vote_count', 'status', 'release_date',\n",
      "       'revenue', 'runtime', 'adult', 'backdrop_path', 'budget', 'homepage',\n",
      "       'imdb_id', 'original_language', 'original_title', 'overview',\n",
      "       'popularity', 'poster_path', 'tagline', 'genres',\n",
      "       'production_companies', 'production_countries', 'spoken_languages',\n",
      "       'keywords'],\n",
      "      dtype='object')\n"
     ]
    }
   ],
   "source": [
    "# Read the csv and store as a dataframe\n",
    "tmdb_full_df = pd.read_csv(\"D://tmdb_database/TMDB_movie_dataset_v11.csv\")\n",
    "\n",
    "# tmdb_full_df.head()\n",
    "# tmdb_full_df.dtypes\n",
    "print(tmdb_full_df.columns.unique())"
   ]
  },
  {
   "cell_type": "code",
   "execution_count": 3,
   "metadata": {},
   "outputs": [],
   "source": [
    "# Select the columns required\n",
    "tmdb_df = tmdb_full_df[['vote_average',\n",
    "                        'vote_count',\n",
    "                        'release_date',\n",
    "                        'revenue',\n",
    "                        'runtime',\n",
    "                        'budget',\n",
    "                        'imdb_id',\n",
    "                        'overview',\n",
    "                        'popularity',\n",
    "                        'tagline',\n",
    "                        'genres',\n",
    "                        'production_companies',\n",
    "                        'spoken_languages',\n",
    "                        'keywords']]"
   ]
  },
  {
   "cell_type": "code",
   "execution_count": 4,
   "metadata": {},
   "outputs": [
    {
     "name": "stderr",
     "output_type": "stream",
     "text": [
      "C:\\Users\\jeffb\\AppData\\Local\\Temp\\ipykernel_26040\\2677300641.py:2: SettingWithCopyWarning: \n",
      "A value is trying to be set on a copy of a slice from a DataFrame.\n",
      "Try using .loc[row_indexer,col_indexer] = value instead\n",
      "\n",
      "See the caveats in the documentation: https://pandas.pydata.org/pandas-docs/stable/user_guide/indexing.html#returning-a-view-versus-a-copy\n",
      "  tmdb_df['release_date'] = pd.to_datetime(tmdb_df['release_date'])\n"
     ]
    }
   ],
   "source": [
    "# Convert \"release_date\" to datetime\n",
    "tmdb_df['release_date'] = pd.to_datetime(tmdb_df['release_date'])\n",
    "# print(tmdb_df.dtypes)\n"
   ]
  },
  {
   "cell_type": "code",
   "execution_count": 5,
   "metadata": {},
   "outputs": [
    {
     "name": "stderr",
     "output_type": "stream",
     "text": [
      "C:\\Users\\jeffb\\AppData\\Local\\Temp\\ipykernel_26040\\1021857383.py:2: SettingWithCopyWarning: \n",
      "A value is trying to be set on a copy of a slice from a DataFrame.\n",
      "Try using .loc[row_indexer,col_indexer] = value instead\n",
      "\n",
      "See the caveats in the documentation: https://pandas.pydata.org/pandas-docs/stable/user_guide/indexing.html#returning-a-view-versus-a-copy\n",
      "  tmdb_df['genres'] = tmdb_df['genres'].str.split(', ')\n"
     ]
    }
   ],
   "source": [
    "# Split the genre strings into lists for manipulation\n",
    "tmdb_df['genres'] = tmdb_df['genres'].str.split(', ')\n",
    "# tmdb_df.head()"
   ]
  },
  {
   "cell_type": "code",
   "execution_count": null,
   "metadata": {},
   "outputs": [],
   "source": [
    "# # Using code sourced from GTP 4o, we are verifying the genre column is cleaned up\n",
    "# # This was done due to some un expected 'NoneType' errors\n",
    "# # Drop rows with NaN values in the 'genres' column\n",
    "# tmdb_df = tmdb_df.dropna(subset=['genres'])\n",
    "\n",
    "# # Ensure all entries in 'genres' are lists\n",
    "# tmdb_df['genres'] = tmdb_df['genres'].apply(lambda x: x if isinstance(x, list) else [x])\n",
    "\n",
    "# # Flatten the lists in the 'genres' column\n",
    "# all_genres = [genre for sublist in tmdb_df['genres'] for genre in sublist]\n",
    "\n",
    "# # Get unique values\n",
    "# unique_genres = set(all_genres)\n",
    "\n",
    "# # Display the unique values\n",
    "# unique_genres"
   ]
  },
  {
   "cell_type": "code",
   "execution_count": 6,
   "metadata": {},
   "outputs": [
    {
     "name": "stdout",
     "output_type": "stream",
     "text": [
      "Number of rows in tmdb_full_df: 1144627\n",
      "Number of rows in tmdb_df: 1144627\n"
     ]
    }
   ],
   "source": [
    "# tmdb_full_df_row_count = len(tmdb_full_df)\n",
    "# tmdb_df_row_count = len(tmdb_df)\n",
    "\n",
    "# print(f'Number of rows in tmdb_full_df: {tmdb_full_df_row_count}')\n",
    "# print(f'Number of rows in tmdb_df: {tmdb_df_row_count}')\n"
   ]
  },
  {
   "cell_type": "code",
   "execution_count": 7,
   "metadata": {},
   "outputs": [],
   "source": [
    "# Build a list of tuples that assigns a value to each genre\n",
    "# By using tuples the values are immutable\n",
    "genre_map = [\n",
    "    ('Action', 1),\n",
    "    ('Adventure', 2),\n",
    "    ('Animation', 3),\n",
    "    ('Comedy', 4),\n",
    "    ('Crime', 5),\n",
    "    ('Documentary', 6),\n",
    "    ('Drama', 7),\n",
    "    ('Family', 8),\n",
    "    ('Fantasy', 9),\n",
    "    ('History', 10),\n",
    "    ('Horror', 11),\n",
    "    ('Music', 12),\n",
    "    ('Mystery', 13),\n",
    "    ('Romance', 14),\n",
    "    ('Science Fiction', 15),\n",
    "    ('TV Movie', 16),\n",
    "    ('Thriller', 17),\n",
    "    ('War', 18),\n",
    "    ('Western', 19),\n",
    "]\n"
   ]
  },
  {
   "cell_type": "code",
   "execution_count": null,
   "metadata": {},
   "outputs": [],
   "source": [
    "# # Use comprehensions and lamdba to convert genres to their corresponding values\n",
    "\n",
    "# tmdb_df['genres'] = tmdb_df['genres'].apply(lambda genres: [value for genre in genres for key, value in genre_map if genre == key])\n",
    "\n",
    "# # Display the result\n",
    "# print(tmdb_df['genres'].head())\n"
   ]
  },
  {
   "cell_type": "code",
   "execution_count": null,
   "metadata": {},
   "outputs": [],
   "source": [
    "# # Set index to 'release_date' for analysis\n",
    "# tmdb_df.set_index('release_date', inplace=True)\n",
    "# tmdb_df.head()"
   ]
  },
  {
   "cell_type": "code",
   "execution_count": 8,
   "metadata": {},
   "outputs": [
    {
     "data": {
      "text/plain": [
       "(404038, 14)"
      ]
     },
     "execution_count": 8,
     "metadata": {},
     "output_type": "execute_result"
    }
   ],
   "source": [
    "# Sort for our target timeframe\n",
    "\n",
    "start_time = '2014-01-01'\n",
    "end_time = '2024-12-12'\n",
    "\n",
    "sliced_df = tmdb_df[(tmdb_df['release_date'] >= start_time) & (tmdb_df['release_date'] <= end_time)]\n",
    "sliced_df.shape"
   ]
  },
  {
   "cell_type": "code",
   "execution_count": 10,
   "metadata": {},
   "outputs": [
    {
     "ename": "TypeError",
     "evalue": "argument of type 'float' is not iterable",
     "output_type": "error",
     "traceback": [
      "\u001b[1;31m---------------------------------------------------------------------------\u001b[0m",
      "\u001b[1;31mTypeError\u001b[0m                                 Traceback (most recent call last)",
      "Cell \u001b[1;32mIn[10], line 1\u001b[0m\n\u001b[1;32m----> 1\u001b[0m filtered_df \u001b[38;5;241m=\u001b[39m tmdb_df[\u001b[43mtmdb_df\u001b[49m\u001b[43m[\u001b[49m\u001b[38;5;124;43m'\u001b[39;49m\u001b[38;5;124;43mgenres\u001b[39;49m\u001b[38;5;124;43m'\u001b[39;49m\u001b[43m]\u001b[49m\u001b[38;5;241;43m.\u001b[39;49m\u001b[43mapply\u001b[49m\u001b[43m(\u001b[49m\u001b[38;5;28;43;01mlambda\u001b[39;49;00m\u001b[43m \u001b[49m\u001b[43mx\u001b[49m\u001b[43m:\u001b[49m\u001b[43m \u001b[49m\u001b[38;5;241;43m1\u001b[39;49m\u001b[43m \u001b[49m\u001b[38;5;129;43;01min\u001b[39;49;00m\u001b[43m \u001b[49m\u001b[43mx\u001b[49m\u001b[43m)\u001b[49m]\n\u001b[0;32m      2\u001b[0m filtered_df \u001b[38;5;241m=\u001b[39m filtered_df\u001b[38;5;241m.\u001b[39mdropna()\n\u001b[0;32m      4\u001b[0m action_revenue \u001b[38;5;241m=\u001b[39m filtered_df[\u001b[38;5;124m'\u001b[39m\u001b[38;5;124mrevenue\u001b[39m\u001b[38;5;124m'\u001b[39m]\u001b[38;5;241m.\u001b[39msum()\n",
      "File \u001b[1;32mc:\\Users\\jeffb\\anaconda3\\envs\\dev\\lib\\site-packages\\pandas\\core\\series.py:4924\u001b[0m, in \u001b[0;36mSeries.apply\u001b[1;34m(self, func, convert_dtype, args, by_row, **kwargs)\u001b[0m\n\u001b[0;32m   4789\u001b[0m \u001b[38;5;28;01mdef\u001b[39;00m \u001b[38;5;21mapply\u001b[39m(\n\u001b[0;32m   4790\u001b[0m     \u001b[38;5;28mself\u001b[39m,\n\u001b[0;32m   4791\u001b[0m     func: AggFuncType,\n\u001b[1;32m   (...)\u001b[0m\n\u001b[0;32m   4796\u001b[0m     \u001b[38;5;241m*\u001b[39m\u001b[38;5;241m*\u001b[39mkwargs,\n\u001b[0;32m   4797\u001b[0m ) \u001b[38;5;241m-\u001b[39m\u001b[38;5;241m>\u001b[39m DataFrame \u001b[38;5;241m|\u001b[39m Series:\n\u001b[0;32m   4798\u001b[0m \u001b[38;5;250m    \u001b[39m\u001b[38;5;124;03m\"\"\"\u001b[39;00m\n\u001b[0;32m   4799\u001b[0m \u001b[38;5;124;03m    Invoke function on values of Series.\u001b[39;00m\n\u001b[0;32m   4800\u001b[0m \n\u001b[1;32m   (...)\u001b[0m\n\u001b[0;32m   4915\u001b[0m \u001b[38;5;124;03m    dtype: float64\u001b[39;00m\n\u001b[0;32m   4916\u001b[0m \u001b[38;5;124;03m    \"\"\"\u001b[39;00m\n\u001b[0;32m   4917\u001b[0m     \u001b[38;5;28;01mreturn\u001b[39;00m \u001b[43mSeriesApply\u001b[49m\u001b[43m(\u001b[49m\n\u001b[0;32m   4918\u001b[0m \u001b[43m        \u001b[49m\u001b[38;5;28;43mself\u001b[39;49m\u001b[43m,\u001b[49m\n\u001b[0;32m   4919\u001b[0m \u001b[43m        \u001b[49m\u001b[43mfunc\u001b[49m\u001b[43m,\u001b[49m\n\u001b[0;32m   4920\u001b[0m \u001b[43m        \u001b[49m\u001b[43mconvert_dtype\u001b[49m\u001b[38;5;241;43m=\u001b[39;49m\u001b[43mconvert_dtype\u001b[49m\u001b[43m,\u001b[49m\n\u001b[0;32m   4921\u001b[0m \u001b[43m        \u001b[49m\u001b[43mby_row\u001b[49m\u001b[38;5;241;43m=\u001b[39;49m\u001b[43mby_row\u001b[49m\u001b[43m,\u001b[49m\n\u001b[0;32m   4922\u001b[0m \u001b[43m        \u001b[49m\u001b[43margs\u001b[49m\u001b[38;5;241;43m=\u001b[39;49m\u001b[43margs\u001b[49m\u001b[43m,\u001b[49m\n\u001b[0;32m   4923\u001b[0m \u001b[43m        \u001b[49m\u001b[43mkwargs\u001b[49m\u001b[38;5;241;43m=\u001b[39;49m\u001b[43mkwargs\u001b[49m\u001b[43m,\u001b[49m\n\u001b[1;32m-> 4924\u001b[0m \u001b[43m    \u001b[49m\u001b[43m)\u001b[49m\u001b[38;5;241;43m.\u001b[39;49m\u001b[43mapply\u001b[49m\u001b[43m(\u001b[49m\u001b[43m)\u001b[49m\n",
      "File \u001b[1;32mc:\\Users\\jeffb\\anaconda3\\envs\\dev\\lib\\site-packages\\pandas\\core\\apply.py:1427\u001b[0m, in \u001b[0;36mSeriesApply.apply\u001b[1;34m(self)\u001b[0m\n\u001b[0;32m   1424\u001b[0m     \u001b[38;5;28;01mreturn\u001b[39;00m \u001b[38;5;28mself\u001b[39m\u001b[38;5;241m.\u001b[39mapply_compat()\n\u001b[0;32m   1426\u001b[0m \u001b[38;5;66;03m# self.func is Callable\u001b[39;00m\n\u001b[1;32m-> 1427\u001b[0m \u001b[38;5;28;01mreturn\u001b[39;00m \u001b[38;5;28;43mself\u001b[39;49m\u001b[38;5;241;43m.\u001b[39;49m\u001b[43mapply_standard\u001b[49m\u001b[43m(\u001b[49m\u001b[43m)\u001b[49m\n",
      "File \u001b[1;32mc:\\Users\\jeffb\\anaconda3\\envs\\dev\\lib\\site-packages\\pandas\\core\\apply.py:1507\u001b[0m, in \u001b[0;36mSeriesApply.apply_standard\u001b[1;34m(self)\u001b[0m\n\u001b[0;32m   1501\u001b[0m \u001b[38;5;66;03m# row-wise access\u001b[39;00m\n\u001b[0;32m   1502\u001b[0m \u001b[38;5;66;03m# apply doesn't have a `na_action` keyword and for backward compat reasons\u001b[39;00m\n\u001b[0;32m   1503\u001b[0m \u001b[38;5;66;03m# we need to give `na_action=\"ignore\"` for categorical data.\u001b[39;00m\n\u001b[0;32m   1504\u001b[0m \u001b[38;5;66;03m# TODO: remove the `na_action=\"ignore\"` when that default has been changed in\u001b[39;00m\n\u001b[0;32m   1505\u001b[0m \u001b[38;5;66;03m#  Categorical (GH51645).\u001b[39;00m\n\u001b[0;32m   1506\u001b[0m action \u001b[38;5;241m=\u001b[39m \u001b[38;5;124m\"\u001b[39m\u001b[38;5;124mignore\u001b[39m\u001b[38;5;124m\"\u001b[39m \u001b[38;5;28;01mif\u001b[39;00m \u001b[38;5;28misinstance\u001b[39m(obj\u001b[38;5;241m.\u001b[39mdtype, CategoricalDtype) \u001b[38;5;28;01melse\u001b[39;00m \u001b[38;5;28;01mNone\u001b[39;00m\n\u001b[1;32m-> 1507\u001b[0m mapped \u001b[38;5;241m=\u001b[39m \u001b[43mobj\u001b[49m\u001b[38;5;241;43m.\u001b[39;49m\u001b[43m_map_values\u001b[49m\u001b[43m(\u001b[49m\n\u001b[0;32m   1508\u001b[0m \u001b[43m    \u001b[49m\u001b[43mmapper\u001b[49m\u001b[38;5;241;43m=\u001b[39;49m\u001b[43mcurried\u001b[49m\u001b[43m,\u001b[49m\u001b[43m \u001b[49m\u001b[43mna_action\u001b[49m\u001b[38;5;241;43m=\u001b[39;49m\u001b[43maction\u001b[49m\u001b[43m,\u001b[49m\u001b[43m \u001b[49m\u001b[43mconvert\u001b[49m\u001b[38;5;241;43m=\u001b[39;49m\u001b[38;5;28;43mself\u001b[39;49m\u001b[38;5;241;43m.\u001b[39;49m\u001b[43mconvert_dtype\u001b[49m\n\u001b[0;32m   1509\u001b[0m \u001b[43m\u001b[49m\u001b[43m)\u001b[49m\n\u001b[0;32m   1511\u001b[0m \u001b[38;5;28;01mif\u001b[39;00m \u001b[38;5;28mlen\u001b[39m(mapped) \u001b[38;5;129;01mand\u001b[39;00m \u001b[38;5;28misinstance\u001b[39m(mapped[\u001b[38;5;241m0\u001b[39m], ABCSeries):\n\u001b[0;32m   1512\u001b[0m     \u001b[38;5;66;03m# GH#43986 Need to do list(mapped) in order to get treated as nested\u001b[39;00m\n\u001b[0;32m   1513\u001b[0m     \u001b[38;5;66;03m#  See also GH#25959 regarding EA support\u001b[39;00m\n\u001b[0;32m   1514\u001b[0m     \u001b[38;5;28;01mreturn\u001b[39;00m obj\u001b[38;5;241m.\u001b[39m_constructor_expanddim(\u001b[38;5;28mlist\u001b[39m(mapped), index\u001b[38;5;241m=\u001b[39mobj\u001b[38;5;241m.\u001b[39mindex)\n",
      "File \u001b[1;32mc:\\Users\\jeffb\\anaconda3\\envs\\dev\\lib\\site-packages\\pandas\\core\\base.py:921\u001b[0m, in \u001b[0;36mIndexOpsMixin._map_values\u001b[1;34m(self, mapper, na_action, convert)\u001b[0m\n\u001b[0;32m    918\u001b[0m \u001b[38;5;28;01mif\u001b[39;00m \u001b[38;5;28misinstance\u001b[39m(arr, ExtensionArray):\n\u001b[0;32m    919\u001b[0m     \u001b[38;5;28;01mreturn\u001b[39;00m arr\u001b[38;5;241m.\u001b[39mmap(mapper, na_action\u001b[38;5;241m=\u001b[39mna_action)\n\u001b[1;32m--> 921\u001b[0m \u001b[38;5;28;01mreturn\u001b[39;00m \u001b[43malgorithms\u001b[49m\u001b[38;5;241;43m.\u001b[39;49m\u001b[43mmap_array\u001b[49m\u001b[43m(\u001b[49m\u001b[43marr\u001b[49m\u001b[43m,\u001b[49m\u001b[43m \u001b[49m\u001b[43mmapper\u001b[49m\u001b[43m,\u001b[49m\u001b[43m \u001b[49m\u001b[43mna_action\u001b[49m\u001b[38;5;241;43m=\u001b[39;49m\u001b[43mna_action\u001b[49m\u001b[43m,\u001b[49m\u001b[43m \u001b[49m\u001b[43mconvert\u001b[49m\u001b[38;5;241;43m=\u001b[39;49m\u001b[43mconvert\u001b[49m\u001b[43m)\u001b[49m\n",
      "File \u001b[1;32mc:\\Users\\jeffb\\anaconda3\\envs\\dev\\lib\\site-packages\\pandas\\core\\algorithms.py:1743\u001b[0m, in \u001b[0;36mmap_array\u001b[1;34m(arr, mapper, na_action, convert)\u001b[0m\n\u001b[0;32m   1741\u001b[0m values \u001b[38;5;241m=\u001b[39m arr\u001b[38;5;241m.\u001b[39mastype(\u001b[38;5;28mobject\u001b[39m, copy\u001b[38;5;241m=\u001b[39m\u001b[38;5;28;01mFalse\u001b[39;00m)\n\u001b[0;32m   1742\u001b[0m \u001b[38;5;28;01mif\u001b[39;00m na_action \u001b[38;5;129;01mis\u001b[39;00m \u001b[38;5;28;01mNone\u001b[39;00m:\n\u001b[1;32m-> 1743\u001b[0m     \u001b[38;5;28;01mreturn\u001b[39;00m \u001b[43mlib\u001b[49m\u001b[38;5;241;43m.\u001b[39;49m\u001b[43mmap_infer\u001b[49m\u001b[43m(\u001b[49m\u001b[43mvalues\u001b[49m\u001b[43m,\u001b[49m\u001b[43m \u001b[49m\u001b[43mmapper\u001b[49m\u001b[43m,\u001b[49m\u001b[43m \u001b[49m\u001b[43mconvert\u001b[49m\u001b[38;5;241;43m=\u001b[39;49m\u001b[43mconvert\u001b[49m\u001b[43m)\u001b[49m\n\u001b[0;32m   1744\u001b[0m \u001b[38;5;28;01melse\u001b[39;00m:\n\u001b[0;32m   1745\u001b[0m     \u001b[38;5;28;01mreturn\u001b[39;00m lib\u001b[38;5;241m.\u001b[39mmap_infer_mask(\n\u001b[0;32m   1746\u001b[0m         values, mapper, mask\u001b[38;5;241m=\u001b[39misna(values)\u001b[38;5;241m.\u001b[39mview(np\u001b[38;5;241m.\u001b[39muint8), convert\u001b[38;5;241m=\u001b[39mconvert\n\u001b[0;32m   1747\u001b[0m     )\n",
      "File \u001b[1;32mlib.pyx:2972\u001b[0m, in \u001b[0;36mpandas._libs.lib.map_infer\u001b[1;34m()\u001b[0m\n",
      "Cell \u001b[1;32mIn[10], line 1\u001b[0m, in \u001b[0;36m<lambda>\u001b[1;34m(x)\u001b[0m\n\u001b[1;32m----> 1\u001b[0m filtered_df \u001b[38;5;241m=\u001b[39m tmdb_df[tmdb_df[\u001b[38;5;124m'\u001b[39m\u001b[38;5;124mgenres\u001b[39m\u001b[38;5;124m'\u001b[39m]\u001b[38;5;241m.\u001b[39mapply(\u001b[38;5;28;01mlambda\u001b[39;00m x: \u001b[38;5;241;43m1\u001b[39;49m\u001b[43m \u001b[49m\u001b[38;5;129;43;01min\u001b[39;49;00m\u001b[43m \u001b[49m\u001b[43mx\u001b[49m)]\n\u001b[0;32m      2\u001b[0m filtered_df \u001b[38;5;241m=\u001b[39m filtered_df\u001b[38;5;241m.\u001b[39mdropna()\n\u001b[0;32m      4\u001b[0m action_revenue \u001b[38;5;241m=\u001b[39m filtered_df[\u001b[38;5;124m'\u001b[39m\u001b[38;5;124mrevenue\u001b[39m\u001b[38;5;124m'\u001b[39m]\u001b[38;5;241m.\u001b[39msum()\n",
      "\u001b[1;31mTypeError\u001b[0m: argument of type 'float' is not iterable"
     ]
    }
   ],
   "source": [
    "# filtered_df = tmdb_df[tmdb_df['genres'].apply(lambda x: 1 in x)]\n",
    "# filtered_df = filtered_df.dropna()\n",
    "\n",
    "# action_revenue = filtered_df['revenue'].sum()\n",
    "# display(action_revenue)\n",
    "# display(filtered_df.head())"
   ]
  },
  {
   "cell_type": "code",
   "execution_count": 53,
   "metadata": {},
   "outputs": [],
   "source": [
    "# Create a year column\n",
    "sliced_df['year'] = tmdb_df['release_date'].dt.year\n",
    "\n",
    "sliced_df['roi'] = round((tmdb_df['revenue'] / tmdb_df['budget']), 2)\n"
   ]
  },
  {
   "cell_type": "code",
   "execution_count": 54,
   "metadata": {},
   "outputs": [
    {
     "data": {
      "text/html": [
       "<div>\n",
       "<style scoped>\n",
       "    .dataframe tbody tr th:only-of-type {\n",
       "        vertical-align: middle;\n",
       "    }\n",
       "\n",
       "    .dataframe tbody tr th {\n",
       "        vertical-align: top;\n",
       "    }\n",
       "\n",
       "    .dataframe thead th {\n",
       "        text-align: right;\n",
       "    }\n",
       "</style>\n",
       "<table border=\"1\" class=\"dataframe\">\n",
       "  <thead>\n",
       "    <tr style=\"text-align: right;\">\n",
       "      <th></th>\n",
       "      <th>vote_average</th>\n",
       "      <th>vote_count</th>\n",
       "      <th>release_date</th>\n",
       "      <th>revenue</th>\n",
       "      <th>runtime</th>\n",
       "      <th>budget</th>\n",
       "      <th>imdb_id</th>\n",
       "      <th>overview</th>\n",
       "      <th>popularity</th>\n",
       "      <th>tagline</th>\n",
       "      <th>genres</th>\n",
       "      <th>production_companies</th>\n",
       "      <th>spoken_languages</th>\n",
       "      <th>keywords</th>\n",
       "      <th>year</th>\n",
       "      <th>roi</th>\n",
       "    </tr>\n",
       "  </thead>\n",
       "  <tbody>\n",
       "    <tr>\n",
       "      <th>1</th>\n",
       "      <td>8.417</td>\n",
       "      <td>32571</td>\n",
       "      <td>2014-11-05</td>\n",
       "      <td>701729206</td>\n",
       "      <td>169</td>\n",
       "      <td>165000000</td>\n",
       "      <td>tt0816692</td>\n",
       "      <td>The adventures of a group of explorers who mak...</td>\n",
       "      <td>140.241</td>\n",
       "      <td>Mankind was born on Earth. It was never meant ...</td>\n",
       "      <td>Adventure</td>\n",
       "      <td>Legendary Pictures, Syncopy, Lynda Obst Produc...</td>\n",
       "      <td>English</td>\n",
       "      <td>rescue, future, spacecraft, race against time,...</td>\n",
       "      <td>2014.0</td>\n",
       "      <td>4.25</td>\n",
       "    </tr>\n",
       "    <tr>\n",
       "      <th>1</th>\n",
       "      <td>8.417</td>\n",
       "      <td>32571</td>\n",
       "      <td>2014-11-05</td>\n",
       "      <td>701729206</td>\n",
       "      <td>169</td>\n",
       "      <td>165000000</td>\n",
       "      <td>tt0816692</td>\n",
       "      <td>The adventures of a group of explorers who mak...</td>\n",
       "      <td>140.241</td>\n",
       "      <td>Mankind was born on Earth. It was never meant ...</td>\n",
       "      <td>Drama</td>\n",
       "      <td>Legendary Pictures, Syncopy, Lynda Obst Produc...</td>\n",
       "      <td>English</td>\n",
       "      <td>rescue, future, spacecraft, race against time,...</td>\n",
       "      <td>2014.0</td>\n",
       "      <td>4.25</td>\n",
       "    </tr>\n",
       "    <tr>\n",
       "      <th>1</th>\n",
       "      <td>8.417</td>\n",
       "      <td>32571</td>\n",
       "      <td>2014-11-05</td>\n",
       "      <td>701729206</td>\n",
       "      <td>169</td>\n",
       "      <td>165000000</td>\n",
       "      <td>tt0816692</td>\n",
       "      <td>The adventures of a group of explorers who mak...</td>\n",
       "      <td>140.241</td>\n",
       "      <td>Mankind was born on Earth. It was never meant ...</td>\n",
       "      <td>Science Fiction</td>\n",
       "      <td>Legendary Pictures, Syncopy, Lynda Obst Produc...</td>\n",
       "      <td>English</td>\n",
       "      <td>rescue, future, spacecraft, race against time,...</td>\n",
       "      <td>2014.0</td>\n",
       "      <td>4.25</td>\n",
       "    </tr>\n",
       "    <tr>\n",
       "      <th>5</th>\n",
       "      <td>7.606</td>\n",
       "      <td>28894</td>\n",
       "      <td>2016-02-09</td>\n",
       "      <td>783100000</td>\n",
       "      <td>108</td>\n",
       "      <td>58000000</td>\n",
       "      <td>tt1431045</td>\n",
       "      <td>The origin story of former Special Forces oper...</td>\n",
       "      <td>72.735</td>\n",
       "      <td>Witness the beginning of a happy ending.</td>\n",
       "      <td>Action</td>\n",
       "      <td>20th Century Fox, The Donners' Company, Genre ...</td>\n",
       "      <td>English</td>\n",
       "      <td>superhero, anti hero, mercenary, based on comi...</td>\n",
       "      <td>2016.0</td>\n",
       "      <td>13.50</td>\n",
       "    </tr>\n",
       "    <tr>\n",
       "      <th>5</th>\n",
       "      <td>7.606</td>\n",
       "      <td>28894</td>\n",
       "      <td>2016-02-09</td>\n",
       "      <td>783100000</td>\n",
       "      <td>108</td>\n",
       "      <td>58000000</td>\n",
       "      <td>tt1431045</td>\n",
       "      <td>The origin story of former Special Forces oper...</td>\n",
       "      <td>72.735</td>\n",
       "      <td>Witness the beginning of a happy ending.</td>\n",
       "      <td>Adventure</td>\n",
       "      <td>20th Century Fox, The Donners' Company, Genre ...</td>\n",
       "      <td>English</td>\n",
       "      <td>superhero, anti hero, mercenary, based on comi...</td>\n",
       "      <td>2016.0</td>\n",
       "      <td>13.50</td>\n",
       "    </tr>\n",
       "  </tbody>\n",
       "</table>\n",
       "</div>"
      ],
      "text/plain": [
       "   vote_average  vote_count release_date    revenue  runtime     budget  \\\n",
       "1         8.417       32571   2014-11-05  701729206      169  165000000   \n",
       "1         8.417       32571   2014-11-05  701729206      169  165000000   \n",
       "1         8.417       32571   2014-11-05  701729206      169  165000000   \n",
       "5         7.606       28894   2016-02-09  783100000      108   58000000   \n",
       "5         7.606       28894   2016-02-09  783100000      108   58000000   \n",
       "\n",
       "     imdb_id                                           overview  popularity  \\\n",
       "1  tt0816692  The adventures of a group of explorers who mak...     140.241   \n",
       "1  tt0816692  The adventures of a group of explorers who mak...     140.241   \n",
       "1  tt0816692  The adventures of a group of explorers who mak...     140.241   \n",
       "5  tt1431045  The origin story of former Special Forces oper...      72.735   \n",
       "5  tt1431045  The origin story of former Special Forces oper...      72.735   \n",
       "\n",
       "                                             tagline           genres  \\\n",
       "1  Mankind was born on Earth. It was never meant ...        Adventure   \n",
       "1  Mankind was born on Earth. It was never meant ...            Drama   \n",
       "1  Mankind was born on Earth. It was never meant ...  Science Fiction   \n",
       "5           Witness the beginning of a happy ending.           Action   \n",
       "5           Witness the beginning of a happy ending.        Adventure   \n",
       "\n",
       "                                production_companies spoken_languages  \\\n",
       "1  Legendary Pictures, Syncopy, Lynda Obst Produc...          English   \n",
       "1  Legendary Pictures, Syncopy, Lynda Obst Produc...          English   \n",
       "1  Legendary Pictures, Syncopy, Lynda Obst Produc...          English   \n",
       "5  20th Century Fox, The Donners' Company, Genre ...          English   \n",
       "5  20th Century Fox, The Donners' Company, Genre ...          English   \n",
       "\n",
       "                                            keywords    year    roi  \n",
       "1  rescue, future, spacecraft, race against time,...  2014.0   4.25  \n",
       "1  rescue, future, spacecraft, race against time,...  2014.0   4.25  \n",
       "1  rescue, future, spacecraft, race against time,...  2014.0   4.25  \n",
       "5  superhero, anti hero, mercenary, based on comi...  2016.0  13.50  \n",
       "5  superhero, anti hero, mercenary, based on comi...  2016.0  13.50  "
      ]
     },
     "execution_count": 54,
     "metadata": {},
     "output_type": "execute_result"
    }
   ],
   "source": [
    "sliced_df.head()"
   ]
  },
  {
   "cell_type": "code",
   "execution_count": 55,
   "metadata": {},
   "outputs": [
    {
     "data": {
      "text/plain": [
       "year    genres   \n",
       "2014.0  Action       16260685204\n",
       "        Adventure    14391314019\n",
       "        Animation     3755725278\n",
       "        Comedy        9379274263\n",
       "        Crime         2314112378\n",
       "Name: revenue, dtype: int64"
      ]
     },
     "execution_count": 55,
     "metadata": {},
     "output_type": "execute_result"
    }
   ],
   "source": [
    "# show the revenue by year and genre\n",
    "\n",
    "sliced_df = sliced_df.explode('genres')\n",
    "sliced_df.head()\n",
    "\n",
    "result_df = sliced_df.groupby(['year', 'genres'])['revenue'].sum()\n",
    "# result_df = pd.DataFrame(result)\n",
    "result_df.head()\n"
   ]
  },
  {
   "cell_type": "code",
   "execution_count": 61,
   "metadata": {},
   "outputs": [
    {
     "data": {
      "text/plain": [
       "vote_average                   float64\n",
       "vote_count                       int64\n",
       "release_date            datetime64[ns]\n",
       "revenue                          int64\n",
       "runtime                          int64\n",
       "budget                           int64\n",
       "imdb_id                         object\n",
       "overview                        object\n",
       "popularity                     float64\n",
       "tagline                         object\n",
       "genres                          object\n",
       "production_companies            object\n",
       "spoken_languages                object\n",
       "keywords                        object\n",
       "year                           float64\n",
       "roi                            float64\n",
       "dtype: object"
      ]
     },
     "execution_count": 61,
     "metadata": {},
     "output_type": "execute_result"
    }
   ],
   "source": [
    "sliced_df.dtypes"
   ]
  },
  {
   "cell_type": "code",
   "execution_count": 57,
   "metadata": {},
   "outputs": [
    {
     "data": {
      "text/plain": [
       "<Axes: xlabel='year,genres'>"
      ]
     },
     "execution_count": 57,
     "metadata": {},
     "output_type": "execute_result"
    },
    {
     "data": {
      "image/png": "[encoded data removed]",
      "text/plain": [
       "<Figure size 640x480 with 1 Axes>"
      ]
     },
     "metadata": {},
     "output_type": "display_data"
    }
   ],
   "source": [
    "# result_df.plot(result_df[result_df['year']=='2014.0'])\n",
    "year_df = sliced_df[sliced_df['year']==2018.0]\n",
    "result_df = year_df.groupby(['year', 'genres'])['revenue'].sum()\n",
    "result_df.plot(kind='bar')\n",
    "\n"
   ]
  },
  {
   "cell_type": "code",
   "execution_count": 63,
   "metadata": {},
   "outputs": [
    {
     "data": {
      "text/plain": [
       "<Axes: xlabel='year'>"
      ]
     },
     "execution_count": 63,
     "metadata": {},
     "output_type": "execute_result"
    },
    {
     "data": {
      "image/png": "[encoded data removed]",
      "text/plain": [
       "<Figure size 640x480 with 1 Axes>"
      ]
     },
     "metadata": {},
     "output_type": "display_data"
    }
   ],
   "source": [
    "# Average ROI by genre and \n",
    "\n",
    "roi_df = sliced_df.groupby('year')['roi'].mean()\n",
    "roi_df.plot()\n",
    "\n",
    "\n"
   ]
  },
  {
   "cell_type": "code",
   "execution_count": null,
   "metadata": {},
   "outputs": [],
   "source": []
  },
  {
   "cell_type": "code",
   "execution_count": null,
   "metadata": {},
   "outputs": [],
   "source": []
  },
  {
   "cell_type": "code",
   "execution_count": null,
   "metadata": {},
   "outputs": [],
   "source": []
  },
  {
   "cell_type": "code",
   "execution_count": null,
   "metadata": {},
   "outputs": [],
   "source": [
    "# IN PROGRESS\n",
    "# finding revenue sum by year\n",
    "# Initialize a dictionary to hold the revenue sums for each genre\n",
    "genre_revenue = {}\n",
    "\n",
    "# Function to update genre revenue\n",
    "def update_genre_revenue(row):\n",
    "    revenue = row['revenue']\n",
    "    for genre in row['genres']:\n",
    "        if genre in genre_revenue:\n",
    "            genre_revenue[genre] += revenue\n",
    "        else:\n",
    "            genre_revenue[genre] = revenue\n",
    "\n",
    "# Apply the function to each row\n",
    "sliced_df.apply(update_genre_revenue, axis=1)\n",
    "\n",
    "# Convert the dictionary to a DataFrame for better readability\n",
    "revenue_by_genre = pd.DataFrame(list(genre_revenue.items()), columns=['Genre', 'Revenue'])\n",
    "\n",
    "# Display the result\n",
    "\n",
    "revenue_df = pd.DataFrame(revenue_by_genre)\n",
    "\n",
    "revenue_df.sort_values"
   ]
  }
 ],
 "metadata": {
  "kernelspec": {
   "display_name": "dev",
   "language": "python",
   "name": "python3"
  },
  "language_info": {
   "codemirror_mode": {
    "name": "ipython",
    "version": 3
   },
   "file_extension": ".py",
   "mimetype": "text/x-python",
   "name": "python",
   "nbconvert_exporter": "python",
   "pygments_lexer": "ipython3",
   "version": "3.10.15"
  }
 },
 "nbformat": 4,
 "nbformat_minor": 2
}
