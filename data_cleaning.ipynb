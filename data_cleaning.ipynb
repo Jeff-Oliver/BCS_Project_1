{
 "cells": [
  {
   "cell_type": "code",
   "execution_count": 1,
   "metadata": {},
   "outputs": [],
   "source": [
    "# Our primary dataset can be found at:\n",
    "# https://www.kaggle.com/datasets/asaniczka/tmdb-movies-dataset-2023-930k-movies\n",
    "# The file is over 500MB - too big for github!"
   ]
  },
  {
   "cell_type": "code",
   "execution_count": 2,
   "metadata": {},
   "outputs": [],
   "source": [
    "# import dependencies\n",
    "import pandas as pd\n",
    "import requests\n",
    "import os\n",
    "from dotenv import load_dotenv\n",
    "import json\n",
    "import subprocess\n",
    "import matplotlib as plt"
   ]
  },
  {
   "cell_type": "code",
   "execution_count": 3,
   "metadata": {},
   "outputs": [
    {
     "data": {
      "text/plain": [
       "id                        int64\n",
       "title                    object\n",
       "vote_average            float64\n",
       "vote_count                int64\n",
       "status                   object\n",
       "release_date             object\n",
       "revenue                   int64\n",
       "runtime                   int64\n",
       "adult                      bool\n",
       "backdrop_path            object\n",
       "budget                    int64\n",
       "homepage                 object\n",
       "imdb_id                  object\n",
       "original_language        object\n",
       "original_title           object\n",
       "overview                 object\n",
       "popularity              float64\n",
       "poster_path              object\n",
       "tagline                  object\n",
       "genres                   object\n",
       "production_companies     object\n",
       "production_countries     object\n",
       "spoken_languages         object\n",
       "keywords                 object\n",
       "dtype: object"
      ]
     },
     "execution_count": 3,
     "metadata": {},
     "output_type": "execute_result"
    }
   ],
   "source": [
    "# Read the csv and store as a dataframe\n",
    "tmdb_full_df = pd.read_csv(\"D://tmdb_database/TMDB_movie_dataset_v11.csv\")\n",
    "\n",
    "# tmdb_full_df.head()\n",
    "tmdb_full_df.dtypes\n",
    "# print(tmdb_full_df.columns.unique())"
   ]
  },
  {
   "cell_type": "code",
   "execution_count": 4,
   "metadata": {},
   "outputs": [
    {
     "data": {
      "text/plain": [
       "(1144627, 10)"
      ]
     },
     "execution_count": 4,
     "metadata": {},
     "output_type": "execute_result"
    }
   ],
   "source": [
    "# Select the columns required\n",
    "tmdb_df = tmdb_full_df[['vote_average',\n",
    "                        'vote_count',\n",
    "                        'release_date',\n",
    "                        'revenue',\n",
    "                        'runtime',\n",
    "                        'budget',\n",
    "                        'imdb_id',\n",
    "                        #'overview',\n",
    "                        'popularity',\n",
    "                        #'tagline',\n",
    "                        'genres',\n",
    "                        #'production_companies',\n",
    "                        #'spoken_languages',\n",
    "                        'keywords']]\n",
    "tmdb_df.shape"
   ]
  },
  {
   "cell_type": "code",
   "execution_count": 5,
   "metadata": {},
   "outputs": [
    {
     "data": {
      "text/plain": [
       "(184524, 10)"
      ]
     },
     "execution_count": 5,
     "metadata": {},
     "output_type": "execute_result"
    }
   ],
   "source": [
    "tmdb_df = tmdb_df.dropna()\n",
    "tmdb_df.shape"
   ]
  },
  {
   "cell_type": "code",
   "execution_count": 6,
   "metadata": {},
   "outputs": [
    {
     "data": {
      "text/plain": [
       "(64432, 10)"
      ]
     },
     "execution_count": 6,
     "metadata": {},
     "output_type": "execute_result"
    }
   ],
   "source": [
    "# Initial cleanup to reduce dataframe size for github.\n",
    "\n",
    "# Convert \"release_date\" to datetime\n",
    "tmdb_df['release_date'] = pd.to_datetime(tmdb_df['release_date'])\n",
    "\n",
    "# Sort for our target timeframe\n",
    "start_time = '2013-01-01'\n",
    "end_time = '2023-12-31'\n",
    "\n",
    "tmdb_df = tmdb_df[(tmdb_df['release_date'] >= start_time) & (tmdb_df['release_date'] <= end_time)]\n",
    "tmdb_df.shape"
   ]
  },
  {
   "cell_type": "code",
   "execution_count": 9,
   "metadata": {},
   "outputs": [
    {
     "data": {
      "text/html": [
       "<div>\n",
       "<style scoped>\n",
       "    .dataframe tbody tr th:only-of-type {\n",
       "        vertical-align: middle;\n",
       "    }\n",
       "\n",
       "    .dataframe tbody tr th {\n",
       "        vertical-align: top;\n",
       "    }\n",
       "\n",
       "    .dataframe thead th {\n",
       "        text-align: right;\n",
       "    }\n",
       "</style>\n",
       "<table border=\"1\" class=\"dataframe\">\n",
       "  <thead>\n",
       "    <tr style=\"text-align: right;\">\n",
       "      <th></th>\n",
       "      <th>vote_average</th>\n",
       "      <th>vote_count</th>\n",
       "      <th>release_date</th>\n",
       "      <th>revenue</th>\n",
       "      <th>runtime</th>\n",
       "      <th>budget</th>\n",
       "      <th>imdb_id</th>\n",
       "      <th>popularity</th>\n",
       "      <th>genres</th>\n",
       "      <th>keywords</th>\n",
       "      <th>year</th>\n",
       "      <th>roi</th>\n",
       "    </tr>\n",
       "  </thead>\n",
       "  <tbody>\n",
       "    <tr>\n",
       "      <th>1</th>\n",
       "      <td>8.417</td>\n",
       "      <td>32571</td>\n",
       "      <td>2014-11-05</td>\n",
       "      <td>701729206</td>\n",
       "      <td>169</td>\n",
       "      <td>165000000</td>\n",
       "      <td>tt0816692</td>\n",
       "      <td>140.241</td>\n",
       "      <td>Adventure, Drama, Science Fiction</td>\n",
       "      <td>rescue, future, spacecraft, race against time,...</td>\n",
       "      <td>2014</td>\n",
       "      <td>4.25</td>\n",
       "    </tr>\n",
       "    <tr>\n",
       "      <th>5</th>\n",
       "      <td>7.606</td>\n",
       "      <td>28894</td>\n",
       "      <td>2016-02-09</td>\n",
       "      <td>783100000</td>\n",
       "      <td>108</td>\n",
       "      <td>58000000</td>\n",
       "      <td>tt1431045</td>\n",
       "      <td>72.735</td>\n",
       "      <td>Action, Adventure, Comedy</td>\n",
       "      <td>superhero, anti hero, mercenary, based on comi...</td>\n",
       "      <td>2016</td>\n",
       "      <td>13.50</td>\n",
       "    </tr>\n",
       "    <tr>\n",
       "      <th>6</th>\n",
       "      <td>8.255</td>\n",
       "      <td>27713</td>\n",
       "      <td>2018-04-25</td>\n",
       "      <td>2052415039</td>\n",
       "      <td>149</td>\n",
       "      <td>300000000</td>\n",
       "      <td>tt4154756</td>\n",
       "      <td>154.340</td>\n",
       "      <td>Adventure, Action, Science Fiction</td>\n",
       "      <td>sacrifice, magic, superhero, based on comic, s...</td>\n",
       "      <td>2018</td>\n",
       "      <td>6.84</td>\n",
       "    </tr>\n",
       "    <tr>\n",
       "      <th>8</th>\n",
       "      <td>7.906</td>\n",
       "      <td>26638</td>\n",
       "      <td>2014-07-30</td>\n",
       "      <td>772776600</td>\n",
       "      <td>121</td>\n",
       "      <td>170000000</td>\n",
       "      <td>tt2015381</td>\n",
       "      <td>33.255</td>\n",
       "      <td>Action, Science Fiction, Adventure</td>\n",
       "      <td>spacecraft, based on comic, space, orphan, adv...</td>\n",
       "      <td>2014</td>\n",
       "      <td>4.55</td>\n",
       "    </tr>\n",
       "    <tr>\n",
       "      <th>15</th>\n",
       "      <td>8.263</td>\n",
       "      <td>23857</td>\n",
       "      <td>2019-04-24</td>\n",
       "      <td>2800000000</td>\n",
       "      <td>181</td>\n",
       "      <td>356000000</td>\n",
       "      <td>tt4154796</td>\n",
       "      <td>91.756</td>\n",
       "      <td>Adventure, Science Fiction, Action</td>\n",
       "      <td>superhero, time travel, space travel, time mac...</td>\n",
       "      <td>2019</td>\n",
       "      <td>7.87</td>\n",
       "    </tr>\n",
       "  </tbody>\n",
       "</table>\n",
       "</div>"
      ],
      "text/plain": [
       "    vote_average  vote_count release_date     revenue  runtime     budget  \\\n",
       "1          8.417       32571   2014-11-05   701729206      169  165000000   \n",
       "5          7.606       28894   2016-02-09   783100000      108   58000000   \n",
       "6          8.255       27713   2018-04-25  2052415039      149  300000000   \n",
       "8          7.906       26638   2014-07-30   772776600      121  170000000   \n",
       "15         8.263       23857   2019-04-24  2800000000      181  356000000   \n",
       "\n",
       "      imdb_id  popularity                              genres  \\\n",
       "1   tt0816692     140.241   Adventure, Drama, Science Fiction   \n",
       "5   tt1431045      72.735           Action, Adventure, Comedy   \n",
       "6   tt4154756     154.340  Adventure, Action, Science Fiction   \n",
       "8   tt2015381      33.255  Action, Science Fiction, Adventure   \n",
       "15  tt4154796      91.756  Adventure, Science Fiction, Action   \n",
       "\n",
       "                                             keywords  year    roi  \n",
       "1   rescue, future, spacecraft, race against time,...  2014   4.25  \n",
       "5   superhero, anti hero, mercenary, based on comi...  2016  13.50  \n",
       "6   sacrifice, magic, superhero, based on comic, s...  2018   6.84  \n",
       "8   spacecraft, based on comic, space, orphan, adv...  2014   4.55  \n",
       "15  superhero, time travel, space travel, time mac...  2019   7.87  "
      ]
     },
     "execution_count": 9,
     "metadata": {},
     "output_type": "execute_result"
    }
   ],
   "source": [
    "# Create a year column\n",
    "tmdb_df['year'] = tmdb_df['release_date'].dt.year\n",
    "\n",
    "# add ROI column\n",
    "tmdb_df['roi'] = round((tmdb_df['revenue'] / tmdb_df['budget']), 2)\n",
    "\n",
    "tmdb_df.head()"
   ]
  },
  {
   "cell_type": "code",
   "execution_count": 10,
   "metadata": {},
   "outputs": [],
   "source": [
    "# Saving data to .csv\n",
    "tmdb_df.to_csv('tmdb_df.csv')"
   ]
  }
 ],
 "metadata": {
  "kernelspec": {
   "display_name": "dev",
   "language": "python",
   "name": "python3"
  },
  "language_info": {
   "codemirror_mode": {
    "name": "ipython",
    "version": 3
   },
   "file_extension": ".py",
   "mimetype": "text/x-python",
   "name": "python",
   "nbconvert_exporter": "python",
   "pygments_lexer": "ipython3",
   "version": "3.10.15"
  }
 },
 "nbformat": 4,
 "nbformat_minor": 2
}
