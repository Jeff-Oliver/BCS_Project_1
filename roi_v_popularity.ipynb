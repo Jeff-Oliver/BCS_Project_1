{
 "cells": [
  {
   "cell_type": "code",
   "execution_count": 31,
   "metadata": {},
   "outputs": [],
   "source": [
    "# import dependencies\n",
    "import pandas as pd\n",
    "from dotenv import load_dotenv\n",
    "import matplotlib.pyplot as plt\n",
    "import numpy as np"
   ]
  },
  {
   "cell_type": "code",
   "execution_count": 21,
   "metadata": {},
   "outputs": [
    {
     "data": {
      "text/plain": [
       "(64432, 13)"
      ]
     },
     "execution_count": 21,
     "metadata": {},
     "output_type": "execute_result"
    }
   ],
   "source": [
    "# Read Dataframe\n",
    "tmdb_df = pd.read_csv('tmdb_df.csv')\n",
    "\n",
    "# Convert \"release_date\" to datetime\n",
    "tmdb_df['release_date'] = pd.to_datetime(tmdb_df['release_date'])\n",
    "\n",
    "# Separate the genres to a list\n",
    "tmdb_df['genres'] = tmdb_df['genres'].str.split(', ')\n",
    "\n",
    "tmdb_df.shape"
   ]
  },
  {
   "cell_type": "code",
   "execution_count": 40,
   "metadata": {},
   "outputs": [
    {
     "data": {
      "text/html": [
       "<div>\n",
       "<style scoped>\n",
       "    .dataframe tbody tr th:only-of-type {\n",
       "        vertical-align: middle;\n",
       "    }\n",
       "\n",
       "    .dataframe tbody tr th {\n",
       "        vertical-align: top;\n",
       "    }\n",
       "\n",
       "    .dataframe thead th {\n",
       "        text-align: right;\n",
       "    }\n",
       "</style>\n",
       "<table border=\"1\" class=\"dataframe\">\n",
       "  <thead>\n",
       "    <tr style=\"text-align: right;\">\n",
       "      <th></th>\n",
       "      <th>imdb_id</th>\n",
       "      <th>roi</th>\n",
       "      <th>popularity</th>\n",
       "      <th>vote_average</th>\n",
       "    </tr>\n",
       "  </thead>\n",
       "  <tbody>\n",
       "    <tr>\n",
       "      <th>0</th>\n",
       "      <td>tt0816692</td>\n",
       "      <td>4.25</td>\n",
       "      <td>140.241</td>\n",
       "      <td>8.417</td>\n",
       "    </tr>\n",
       "    <tr>\n",
       "      <th>1</th>\n",
       "      <td>tt1431045</td>\n",
       "      <td>13.50</td>\n",
       "      <td>72.735</td>\n",
       "      <td>7.606</td>\n",
       "    </tr>\n",
       "    <tr>\n",
       "      <th>2</th>\n",
       "      <td>tt4154756</td>\n",
       "      <td>6.84</td>\n",
       "      <td>154.340</td>\n",
       "      <td>8.255</td>\n",
       "    </tr>\n",
       "    <tr>\n",
       "      <th>3</th>\n",
       "      <td>tt2015381</td>\n",
       "      <td>4.55</td>\n",
       "      <td>33.255</td>\n",
       "      <td>7.906</td>\n",
       "    </tr>\n",
       "    <tr>\n",
       "      <th>4</th>\n",
       "      <td>tt4154796</td>\n",
       "      <td>7.87</td>\n",
       "      <td>91.756</td>\n",
       "      <td>8.263</td>\n",
       "    </tr>\n",
       "    <tr>\n",
       "      <th>...</th>\n",
       "      <td>...</td>\n",
       "      <td>...</td>\n",
       "      <td>...</td>\n",
       "      <td>...</td>\n",
       "    </tr>\n",
       "    <tr>\n",
       "      <th>64395</th>\n",
       "      <td>tt11414534</td>\n",
       "      <td>0.00</td>\n",
       "      <td>0.600</td>\n",
       "      <td>0.000</td>\n",
       "    </tr>\n",
       "    <tr>\n",
       "      <th>64402</th>\n",
       "      <td>tt2414886</td>\n",
       "      <td>0.00</td>\n",
       "      <td>0.806</td>\n",
       "      <td>0.000</td>\n",
       "    </tr>\n",
       "    <tr>\n",
       "      <th>64413</th>\n",
       "      <td>tt11815154</td>\n",
       "      <td>0.00</td>\n",
       "      <td>0.600</td>\n",
       "      <td>0.000</td>\n",
       "    </tr>\n",
       "    <tr>\n",
       "      <th>64421</th>\n",
       "      <td>tt8980416</td>\n",
       "      <td>0.00</td>\n",
       "      <td>0.600</td>\n",
       "      <td>0.000</td>\n",
       "    </tr>\n",
       "    <tr>\n",
       "      <th>64425</th>\n",
       "      <td>tt12492302</td>\n",
       "      <td>0.00</td>\n",
       "      <td>0.600</td>\n",
       "      <td>0.000</td>\n",
       "    </tr>\n",
       "  </tbody>\n",
       "</table>\n",
       "<p>11727 rows × 4 columns</p>\n",
       "</div>"
      ],
      "text/plain": [
       "          imdb_id    roi  popularity  vote_average\n",
       "0       tt0816692   4.25     140.241         8.417\n",
       "1       tt1431045  13.50      72.735         7.606\n",
       "2       tt4154756   6.84     154.340         8.255\n",
       "3       tt2015381   4.55      33.255         7.906\n",
       "4       tt4154796   7.87      91.756         8.263\n",
       "...           ...    ...         ...           ...\n",
       "64395  tt11414534   0.00       0.600         0.000\n",
       "64402   tt2414886   0.00       0.806         0.000\n",
       "64413  tt11815154   0.00       0.600         0.000\n",
       "64421   tt8980416   0.00       0.600         0.000\n",
       "64425  tt12492302   0.00       0.600         0.000\n",
       "\n",
       "[11727 rows x 4 columns]"
      ]
     },
     "execution_count": 40,
     "metadata": {},
     "output_type": "execute_result"
    }
   ],
   "source": [
    "roi_df = tmdb_df[['imdb_id', 'roi', 'popularity', 'vote_average']]\n",
    "roi_df.dropna()"
   ]
  },
  {
   "cell_type": "code",
   "execution_count": 41,
   "metadata": {},
   "outputs": [
    {
     "data": {
      "text/plain": [
       "(40174, 4)"
      ]
     },
     "execution_count": 41,
     "metadata": {},
     "output_type": "execute_result"
    }
   ],
   "source": [
    "roi_df = roi_df[roi_df['roi'] != 0]\n",
    "roi_df = roi_df[roi_df['vote_average'] != 0]\n",
    "roi_df.shape"
   ]
  },
  {
   "cell_type": "code",
   "execution_count": 42,
   "metadata": {},
   "outputs": [
    {
     "data": {
      "text/html": [
       "<div>\n",
       "<style scoped>\n",
       "    .dataframe tbody tr th:only-of-type {\n",
       "        vertical-align: middle;\n",
       "    }\n",
       "\n",
       "    .dataframe tbody tr th {\n",
       "        vertical-align: top;\n",
       "    }\n",
       "\n",
       "    .dataframe thead th {\n",
       "        text-align: right;\n",
       "    }\n",
       "</style>\n",
       "<table border=\"1\" class=\"dataframe\">\n",
       "  <thead>\n",
       "    <tr style=\"text-align: right;\">\n",
       "      <th></th>\n",
       "      <th>imdb_id</th>\n",
       "      <th>roi</th>\n",
       "      <th>popularity</th>\n",
       "      <th>vote_average</th>\n",
       "    </tr>\n",
       "  </thead>\n",
       "  <tbody>\n",
       "    <tr>\n",
       "      <th>3367</th>\n",
       "      <td>tt1837562</td>\n",
       "      <td>inf</td>\n",
       "      <td>7.944</td>\n",
       "      <td>6.526</td>\n",
       "    </tr>\n",
       "    <tr>\n",
       "      <th>4156</th>\n",
       "      <td>tt6958014</td>\n",
       "      <td>inf</td>\n",
       "      <td>10.581</td>\n",
       "      <td>5.483</td>\n",
       "    </tr>\n",
       "    <tr>\n",
       "      <th>4135</th>\n",
       "      <td>tt4085084</td>\n",
       "      <td>inf</td>\n",
       "      <td>10.101</td>\n",
       "      <td>5.700</td>\n",
       "    </tr>\n",
       "    <tr>\n",
       "      <th>1401</th>\n",
       "      <td>tt10228134</td>\n",
       "      <td>inf</td>\n",
       "      <td>26.573</td>\n",
       "      <td>6.616</td>\n",
       "    </tr>\n",
       "    <tr>\n",
       "      <th>4138</th>\n",
       "      <td>tt9907782</td>\n",
       "      <td>inf</td>\n",
       "      <td>13.611</td>\n",
       "      <td>6.751</td>\n",
       "    </tr>\n",
       "  </tbody>\n",
       "</table>\n",
       "</div>"
      ],
      "text/plain": [
       "         imdb_id  roi  popularity  vote_average\n",
       "3367   tt1837562  inf       7.944         6.526\n",
       "4156   tt6958014  inf      10.581         5.483\n",
       "4135   tt4085084  inf      10.101         5.700\n",
       "1401  tt10228134  inf      26.573         6.616\n",
       "4138   tt9907782  inf      13.611         6.751"
      ]
     },
     "execution_count": 42,
     "metadata": {},
     "output_type": "execute_result"
    }
   ],
   "source": [
    "roi_df = roi_df.sort_values(by='roi', ascending=False)\n",
    "roi_df.head()"
   ]
  },
  {
   "cell_type": "code",
   "execution_count": 25,
   "metadata": {},
   "outputs": [],
   "source": [
    "roi_df = roi_df[np.isfinite(roi_df['roi'])]"
   ]
  },
  {
   "cell_type": "code",
   "execution_count": 44,
   "metadata": {},
   "outputs": [
    {
     "data": {
      "text/html": [
       "<div>\n",
       "<style scoped>\n",
       "    .dataframe tbody tr th:only-of-type {\n",
       "        vertical-align: middle;\n",
       "    }\n",
       "\n",
       "    .dataframe tbody tr th {\n",
       "        vertical-align: top;\n",
       "    }\n",
       "\n",
       "    .dataframe thead th {\n",
       "        text-align: right;\n",
       "    }\n",
       "</style>\n",
       "<table border=\"1\" class=\"dataframe\">\n",
       "  <thead>\n",
       "    <tr style=\"text-align: right;\">\n",
       "      <th></th>\n",
       "      <th>imdb_id</th>\n",
       "      <th>roi</th>\n",
       "      <th>popularity</th>\n",
       "      <th>vote_average</th>\n",
       "    </tr>\n",
       "  </thead>\n",
       "  <tbody>\n",
       "    <tr>\n",
       "      <th>1952</th>\n",
       "      <td>tt7914416</td>\n",
       "      <td>526.47</td>\n",
       "      <td>14.950</td>\n",
       "      <td>7.639</td>\n",
       "    </tr>\n",
       "    <tr>\n",
       "      <th>5098</th>\n",
       "      <td>tt6108090</td>\n",
       "      <td>480.00</td>\n",
       "      <td>8.214</td>\n",
       "      <td>7.352</td>\n",
       "    </tr>\n",
       "    <tr>\n",
       "      <th>1638</th>\n",
       "      <td>tt2309260</td>\n",
       "      <td>429.64</td>\n",
       "      <td>10.224</td>\n",
       "      <td>4.955</td>\n",
       "    </tr>\n",
       "    <tr>\n",
       "      <th>21000</th>\n",
       "      <td>tt8686136</td>\n",
       "      <td>366.67</td>\n",
       "      <td>1.317</td>\n",
       "      <td>4.300</td>\n",
       "    </tr>\n",
       "    <tr>\n",
       "      <th>16839</th>\n",
       "      <td>tt6269810</td>\n",
       "      <td>366.67</td>\n",
       "      <td>1.280</td>\n",
       "      <td>6.318</td>\n",
       "    </tr>\n",
       "  </tbody>\n",
       "</table>\n",
       "</div>"
      ],
      "text/plain": [
       "         imdb_id     roi  popularity  vote_average\n",
       "1952   tt7914416  526.47      14.950         7.639\n",
       "5098   tt6108090  480.00       8.214         7.352\n",
       "1638   tt2309260  429.64      10.224         4.955\n",
       "21000  tt8686136  366.67       1.317         4.300\n",
       "16839  tt6269810  366.67       1.280         6.318"
      ]
     },
     "execution_count": 44,
     "metadata": {},
     "output_type": "execute_result"
    }
   ],
   "source": [
    "roi_df = roi_df[roi_df['roi'] < 3000]\n",
    "roi_df.head()\n"
   ]
  },
  {
   "cell_type": "code",
   "execution_count": 45,
   "metadata": {},
   "outputs": [
    {
     "data": {
      "image/png": "[encoded data removed]",
      "text/plain": [
       "<Figure size 800x600 with 1 Axes>"
      ]
     },
     "metadata": {},
     "output_type": "display_data"
    }
   ],
   "source": [
    "# Create a figure and set the size\n",
    "plt.figure(figsize=(8, 6))\n",
    "\n",
    "# Create a scatter plot\n",
    "plt.scatter(roi_df['vote_average'], roi_df['roi'], color='purple', label='Data Points', alpha=0.5)\n",
    "\n",
    "# Define the axes and title\n",
    "plt.title('Popularity vs Return on Investment')\n",
    "plt.xlabel('vote_average')\n",
    "plt.ylabel('ROI')\n",
    "\n",
    "# Add a legend\n",
    "plt.legend()\n",
    "\n",
    "# Adjust layout and show the plot\n",
    "plt.tight_layout()\n",
    "plt.show()"
   ]
  },
  {
   "cell_type": "code",
   "execution_count": 46,
   "metadata": {},
   "outputs": [
    {
     "data": {
      "text/html": [
       "<div>\n",
       "<style scoped>\n",
       "    .dataframe tbody tr th:only-of-type {\n",
       "        vertical-align: middle;\n",
       "    }\n",
       "\n",
       "    .dataframe tbody tr th {\n",
       "        vertical-align: top;\n",
       "    }\n",
       "\n",
       "    .dataframe thead th {\n",
       "        text-align: right;\n",
       "    }\n",
       "</style>\n",
       "<table border=\"1\" class=\"dataframe\">\n",
       "  <thead>\n",
       "    <tr style=\"text-align: right;\">\n",
       "      <th></th>\n",
       "      <th>imdb_id</th>\n",
       "      <th>roi</th>\n",
       "      <th>popularity</th>\n",
       "      <th>vote_average</th>\n",
       "    </tr>\n",
       "  </thead>\n",
       "  <tbody>\n",
       "    <tr>\n",
       "      <th>38920</th>\n",
       "      <td>tt8108118</td>\n",
       "      <td>1.67</td>\n",
       "      <td>0.600</td>\n",
       "      <td>10.0</td>\n",
       "    </tr>\n",
       "    <tr>\n",
       "      <th>37393</th>\n",
       "      <td>tt22042944</td>\n",
       "      <td>0.02</td>\n",
       "      <td>0.682</td>\n",
       "      <td>10.0</td>\n",
       "    </tr>\n",
       "    <tr>\n",
       "      <th>43060</th>\n",
       "      <td>tt13129744</td>\n",
       "      <td>1.00</td>\n",
       "      <td>0.600</td>\n",
       "      <td>10.0</td>\n",
       "    </tr>\n",
       "    <tr>\n",
       "      <th>42859</th>\n",
       "      <td>tt19799530</td>\n",
       "      <td>0.20</td>\n",
       "      <td>1.400</td>\n",
       "      <td>10.0</td>\n",
       "    </tr>\n",
       "    <tr>\n",
       "      <th>36288</th>\n",
       "      <td>tt5492684</td>\n",
       "      <td>0.20</td>\n",
       "      <td>0.600</td>\n",
       "      <td>10.0</td>\n",
       "    </tr>\n",
       "  </tbody>\n",
       "</table>\n",
       "</div>"
      ],
      "text/plain": [
       "          imdb_id   roi  popularity  vote_average\n",
       "38920   tt8108118  1.67       0.600          10.0\n",
       "37393  tt22042944  0.02       0.682          10.0\n",
       "43060  tt13129744  1.00       0.600          10.0\n",
       "42859  tt19799530  0.20       1.400          10.0\n",
       "36288   tt5492684  0.20       0.600          10.0"
      ]
     },
     "execution_count": 46,
     "metadata": {},
     "output_type": "execute_result"
    }
   ],
   "source": [
    "roi_df = roi_df.sort_values(by='vote_average', ascending=False)\n",
    "roi_df.head()"
   ]
  },
  {
   "cell_type": "code",
   "execution_count": null,
   "metadata": {},
   "outputs": [],
   "source": []
  }
 ],
 "metadata": {
  "kernelspec": {
   "display_name": "dev",
   "language": "python",
   "name": "python3"
  },
  "language_info": {
   "codemirror_mode": {
    "name": "ipython",
    "version": 3
   },
   "file_extension": ".py",
   "mimetype": "text/x-python",
   "name": "python",
   "nbconvert_exporter": "python",
   "pygments_lexer": "ipython3",
   "version": "3.10.15"
  }
 },
 "nbformat": 4,
 "nbformat_minor": 2
}
