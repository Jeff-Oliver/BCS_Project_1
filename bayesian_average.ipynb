{
 "cells": [
  {
   "cell_type": "code",
   "execution_count": 2,
   "metadata": {},
   "outputs": [],
   "source": [
    "# Our primary dataset can be found at:\n",
    "# https://www.kaggle.com/datasets/asaniczka/tmdb-movies-dataset-2023-930k-movies\n",
    "# The file is over 500MB - too big for github!"
   ]
  },
  {
   "cell_type": "code",
   "execution_count": 1,
   "metadata": {},
   "outputs": [],
   "source": [
    "# import dependencies\n",
    "import pandas as pd\n",
    "import requests\n",
    "import os\n",
    "from dotenv import load_dotenv\n",
    "import json\n",
    "import subprocess\n",
    "import warnings\n",
    "import seaborn as sns\n",
    "import matplotlib.pyplot as plt"
   ]
  },
  {
   "cell_type": "code",
   "execution_count": 2,
   "metadata": {},
   "outputs": [],
   "source": [
    "tmdb_df = pd.read_csv(\"~/.kaggle/TMDB_movie_dataset_v11.csv\")"
   ]
  },
  {
   "cell_type": "code",
   "execution_count": 3,
   "metadata": {},
   "outputs": [],
   "source": [
    "tmdb_df = tmdb_df[['vote_average',\n",
    "                        'vote_count',\n",
    "                        'release_date',\n",
    "                        'revenue',\n",
    "                        'runtime',\n",
    "                        'budget',\n",
    "                        'imdb_id',\n",
    "                        'overview',\n",
    "                        'popularity',\n",
    "                        'tagline',\n",
    "                        'genres',\n",
    "                        'production_companies',\n",
    "                        'spoken_languages',\n",
    "                        'keywords']]"
   ]
  },
  {
   "cell_type": "code",
   "execution_count": 4,
   "metadata": {},
   "outputs": [
    {
     "data": {
      "text/html": [
       "<div>\n",
       "<style scoped>\n",
       "    .dataframe tbody tr th:only-of-type {\n",
       "        vertical-align: middle;\n",
       "    }\n",
       "\n",
       "    .dataframe tbody tr th {\n",
       "        vertical-align: top;\n",
       "    }\n",
       "\n",
       "    .dataframe thead th {\n",
       "        text-align: right;\n",
       "    }\n",
       "</style>\n",
       "<table border=\"1\" class=\"dataframe\">\n",
       "  <thead>\n",
       "    <tr style=\"text-align: right;\">\n",
       "      <th></th>\n",
       "      <th>vote_average</th>\n",
       "      <th>vote_count</th>\n",
       "      <th>release_date</th>\n",
       "      <th>revenue</th>\n",
       "      <th>runtime</th>\n",
       "      <th>budget</th>\n",
       "      <th>imdb_id</th>\n",
       "      <th>overview</th>\n",
       "      <th>popularity</th>\n",
       "      <th>tagline</th>\n",
       "      <th>genres</th>\n",
       "      <th>production_companies</th>\n",
       "      <th>spoken_languages</th>\n",
       "      <th>keywords</th>\n",
       "    </tr>\n",
       "  </thead>\n",
       "  <tbody>\n",
       "    <tr>\n",
       "      <th>0</th>\n",
       "      <td>8.364</td>\n",
       "      <td>34495</td>\n",
       "      <td>2010-07-15</td>\n",
       "      <td>825532764</td>\n",
       "      <td>148</td>\n",
       "      <td>160000000</td>\n",
       "      <td>tt1375666</td>\n",
       "      <td>Cobb, a skilled thief who commits corporate es...</td>\n",
       "      <td>83.952</td>\n",
       "      <td>Your mind is the scene of the crime.</td>\n",
       "      <td>Action, Science Fiction, Adventure</td>\n",
       "      <td>Legendary Pictures, Syncopy, Warner Bros. Pict...</td>\n",
       "      <td>English, French, Japanese, Swahili</td>\n",
       "      <td>rescue, mission, dream, airplane, paris, franc...</td>\n",
       "    </tr>\n",
       "    <tr>\n",
       "      <th>1</th>\n",
       "      <td>8.417</td>\n",
       "      <td>32571</td>\n",
       "      <td>2014-11-05</td>\n",
       "      <td>701729206</td>\n",
       "      <td>169</td>\n",
       "      <td>165000000</td>\n",
       "      <td>tt0816692</td>\n",
       "      <td>The adventures of a group of explorers who mak...</td>\n",
       "      <td>140.241</td>\n",
       "      <td>Mankind was born on Earth. It was never meant ...</td>\n",
       "      <td>Adventure, Drama, Science Fiction</td>\n",
       "      <td>Legendary Pictures, Syncopy, Lynda Obst Produc...</td>\n",
       "      <td>English</td>\n",
       "      <td>rescue, future, spacecraft, race against time,...</td>\n",
       "    </tr>\n",
       "    <tr>\n",
       "      <th>2</th>\n",
       "      <td>8.512</td>\n",
       "      <td>30619</td>\n",
       "      <td>2008-07-16</td>\n",
       "      <td>1004558444</td>\n",
       "      <td>152</td>\n",
       "      <td>185000000</td>\n",
       "      <td>tt0468569</td>\n",
       "      <td>Batman raises the stakes in his war on crime. ...</td>\n",
       "      <td>130.643</td>\n",
       "      <td>Welcome to a world without rules.</td>\n",
       "      <td>Drama, Action, Crime, Thriller</td>\n",
       "      <td>DC Comics, Legendary Pictures, Syncopy, Isobel...</td>\n",
       "      <td>English, Mandarin</td>\n",
       "      <td>joker, sadism, chaos, secret identity, crime f...</td>\n",
       "    </tr>\n",
       "    <tr>\n",
       "      <th>3</th>\n",
       "      <td>7.573</td>\n",
       "      <td>29815</td>\n",
       "      <td>2009-12-15</td>\n",
       "      <td>2923706026</td>\n",
       "      <td>162</td>\n",
       "      <td>237000000</td>\n",
       "      <td>tt0499549</td>\n",
       "      <td>In the 22nd century, a paraplegic Marine is di...</td>\n",
       "      <td>79.932</td>\n",
       "      <td>Enter the world of Pandora.</td>\n",
       "      <td>Action, Adventure, Fantasy, Science Fiction</td>\n",
       "      <td>Dune Entertainment, Lightstorm Entertainment, ...</td>\n",
       "      <td>English, Spanish</td>\n",
       "      <td>future, society, culture clash, space travel, ...</td>\n",
       "    </tr>\n",
       "    <tr>\n",
       "      <th>4</th>\n",
       "      <td>7.710</td>\n",
       "      <td>29166</td>\n",
       "      <td>2012-04-25</td>\n",
       "      <td>1518815515</td>\n",
       "      <td>143</td>\n",
       "      <td>220000000</td>\n",
       "      <td>tt0848228</td>\n",
       "      <td>When an unexpected enemy emerges and threatens...</td>\n",
       "      <td>98.082</td>\n",
       "      <td>Some assembly required.</td>\n",
       "      <td>Science Fiction, Action, Adventure</td>\n",
       "      <td>Marvel Studios</td>\n",
       "      <td>English, Hindi, Russian</td>\n",
       "      <td>new york city, superhero, shield, based on com...</td>\n",
       "    </tr>\n",
       "  </tbody>\n",
       "</table>\n",
       "</div>"
      ],
      "text/plain": [
       "   vote_average  vote_count release_date     revenue  runtime     budget  \\\n",
       "0         8.364       34495   2010-07-15   825532764      148  160000000   \n",
       "1         8.417       32571   2014-11-05   701729206      169  165000000   \n",
       "2         8.512       30619   2008-07-16  1004558444      152  185000000   \n",
       "3         7.573       29815   2009-12-15  2923706026      162  237000000   \n",
       "4         7.710       29166   2012-04-25  1518815515      143  220000000   \n",
       "\n",
       "     imdb_id                                           overview  popularity  \\\n",
       "0  tt1375666  Cobb, a skilled thief who commits corporate es...      83.952   \n",
       "1  tt0816692  The adventures of a group of explorers who mak...     140.241   \n",
       "2  tt0468569  Batman raises the stakes in his war on crime. ...     130.643   \n",
       "3  tt0499549  In the 22nd century, a paraplegic Marine is di...      79.932   \n",
       "4  tt0848228  When an unexpected enemy emerges and threatens...      98.082   \n",
       "\n",
       "                                             tagline  \\\n",
       "0               Your mind is the scene of the crime.   \n",
       "1  Mankind was born on Earth. It was never meant ...   \n",
       "2                  Welcome to a world without rules.   \n",
       "3                        Enter the world of Pandora.   \n",
       "4                            Some assembly required.   \n",
       "\n",
       "                                        genres  \\\n",
       "0           Action, Science Fiction, Adventure   \n",
       "1            Adventure, Drama, Science Fiction   \n",
       "2               Drama, Action, Crime, Thriller   \n",
       "3  Action, Adventure, Fantasy, Science Fiction   \n",
       "4           Science Fiction, Action, Adventure   \n",
       "\n",
       "                                production_companies  \\\n",
       "0  Legendary Pictures, Syncopy, Warner Bros. Pict...   \n",
       "1  Legendary Pictures, Syncopy, Lynda Obst Produc...   \n",
       "2  DC Comics, Legendary Pictures, Syncopy, Isobel...   \n",
       "3  Dune Entertainment, Lightstorm Entertainment, ...   \n",
       "4                                     Marvel Studios   \n",
       "\n",
       "                     spoken_languages  \\\n",
       "0  English, French, Japanese, Swahili   \n",
       "1                             English   \n",
       "2                   English, Mandarin   \n",
       "3                    English, Spanish   \n",
       "4             English, Hindi, Russian   \n",
       "\n",
       "                                            keywords  \n",
       "0  rescue, mission, dream, airplane, paris, franc...  \n",
       "1  rescue, future, spacecraft, race against time,...  \n",
       "2  joker, sadism, chaos, secret identity, crime f...  \n",
       "3  future, society, culture clash, space travel, ...  \n",
       "4  new york city, superhero, shield, based on com...  "
      ]
     },
     "execution_count": 4,
     "metadata": {},
     "output_type": "execute_result"
    }
   ],
   "source": [
    "tmdb_df.head(5)"
   ]
  },
  {
   "cell_type": "code",
   "execution_count": 6,
   "metadata": {},
   "outputs": [
    {
     "data": {
      "text/plain": [
       "vote_average            float64\n",
       "vote_count                int64\n",
       "release_date             object\n",
       "revenue                   int64\n",
       "runtime                   int64\n",
       "budget                    int64\n",
       "imdb_id                  object\n",
       "overview                 object\n",
       "popularity              float64\n",
       "tagline                  object\n",
       "genres                   object\n",
       "production_companies     object\n",
       "spoken_languages         object\n",
       "keywords                 object\n",
       "dtype: object"
      ]
     },
     "execution_count": 6,
     "metadata": {},
     "output_type": "execute_result"
    }
   ],
   "source": [
    "tmdb_df.dtypes"
   ]
  },
  {
   "cell_type": "code",
   "execution_count": 7,
   "metadata": {},
   "outputs": [],
   "source": [
    "df = tmdb_df.copy()"
   ]
  },
  {
   "cell_type": "code",
   "execution_count": 8,
   "metadata": {},
   "outputs": [],
   "source": [
    "# Convert object columns to appropriate types\n",
    "with warnings.catch_warnings():\n",
    "    warnings.simplefilter(\"ignore\")\n",
    "\n",
    "    for col in df.select_dtypes(include=['object']).columns:\n",
    "        try:\n",
    "            df[col] = pd.to_numeric(df[col])\n",
    "        except ValueError:\n",
    "            try:\n",
    "                df[col] = pd.to_datetime(df[col])\n",
    "            except ValueError:\n",
    "                df[col] = df[col].astype('string')"
   ]
  },
  {
   "cell_type": "code",
   "execution_count": 9,
   "metadata": {},
   "outputs": [
    {
     "data": {
      "text/plain": [
       "vote_average                   float64\n",
       "vote_count                       int64\n",
       "release_date            datetime64[ns]\n",
       "revenue                          int64\n",
       "runtime                          int64\n",
       "budget                           int64\n",
       "imdb_id                 string[python]\n",
       "overview                string[python]\n",
       "popularity                     float64\n",
       "tagline                 string[python]\n",
       "genres                  string[python]\n",
       "production_companies    string[python]\n",
       "spoken_languages        string[python]\n",
       "keywords                string[python]\n",
       "dtype: object"
      ]
     },
     "execution_count": 9,
     "metadata": {},
     "output_type": "execute_result"
    }
   ],
   "source": [
    "df.dtypes"
   ]
  },
  {
   "cell_type": "code",
   "execution_count": 10,
   "metadata": {},
   "outputs": [],
   "source": [
    "df['year'] = df['release_date'].dt.year\n",
    "df['year'] = df['year'].fillna(-1).astype(int)"
   ]
  },
  {
   "cell_type": "code",
   "execution_count": 11,
   "metadata": {},
   "outputs": [
    {
     "data": {
      "text/plain": [
       "vote_average                   float64\n",
       "vote_count                       int64\n",
       "release_date            datetime64[ns]\n",
       "revenue                          int64\n",
       "runtime                          int64\n",
       "budget                           int64\n",
       "imdb_id                 string[python]\n",
       "overview                string[python]\n",
       "popularity                     float64\n",
       "tagline                 string[python]\n",
       "genres                  string[python]\n",
       "production_companies    string[python]\n",
       "spoken_languages        string[python]\n",
       "keywords                string[python]\n",
       "year                             int64\n",
       "dtype: object"
      ]
     },
     "execution_count": 11,
     "metadata": {},
     "output_type": "execute_result"
    }
   ],
   "source": [
    "df.dtypes"
   ]
  },
  {
   "cell_type": "code",
   "execution_count": 12,
   "metadata": {},
   "outputs": [],
   "source": [
    "df2 = df.copy()"
   ]
  },
  {
   "cell_type": "code",
   "execution_count": 13,
   "metadata": {},
   "outputs": [],
   "source": [
    "df2 = df2[df2['revenue'].notna() & (df2['revenue'] != 0)]\n",
    "df2 = df2[df2['budget'].notna() & (df2['budget'] != 0)]\n",
    "df2 = df2[df2['vote_average'].notna() & (df2['vote_average'] != 0)]\n",
    "df2 = df2[df2['vote_count'].notna() & (df2['vote_count'] != 0)]"
   ]
  },
  {
   "cell_type": "code",
   "execution_count": 14,
   "metadata": {},
   "outputs": [
    {
     "data": {
      "text/plain": [
       "revenue\n",
       "100          126\n",
       "1            121\n",
       "10000         68\n",
       "100000        61\n",
       "1000000       58\n",
       "            ... \n",
       "177311151      1\n",
       "38934048       1\n",
       "25900000       1\n",
       "101564935      1\n",
       "8544           1\n",
       "Name: count, Length: 8600, dtype: int64"
      ]
     },
     "execution_count": 14,
     "metadata": {},
     "output_type": "execute_result"
    }
   ],
   "source": [
    "df2['revenue'].value_counts()"
   ]
  },
  {
   "cell_type": "code",
   "execution_count": 15,
   "metadata": {},
   "outputs": [
    {
     "data": {
      "text/html": [
       "<div>\n",
       "<style scoped>\n",
       "    .dataframe tbody tr th:only-of-type {\n",
       "        vertical-align: middle;\n",
       "    }\n",
       "\n",
       "    .dataframe tbody tr th {\n",
       "        vertical-align: top;\n",
       "    }\n",
       "\n",
       "    .dataframe thead th {\n",
       "        text-align: right;\n",
       "    }\n",
       "</style>\n",
       "<table border=\"1\" class=\"dataframe\">\n",
       "  <thead>\n",
       "    <tr style=\"text-align: right;\">\n",
       "      <th></th>\n",
       "      <th>vote_average</th>\n",
       "      <th>vote_count</th>\n",
       "      <th>release_date</th>\n",
       "      <th>revenue</th>\n",
       "      <th>runtime</th>\n",
       "      <th>budget</th>\n",
       "      <th>imdb_id</th>\n",
       "      <th>overview</th>\n",
       "      <th>popularity</th>\n",
       "      <th>tagline</th>\n",
       "      <th>genres</th>\n",
       "      <th>production_companies</th>\n",
       "      <th>spoken_languages</th>\n",
       "      <th>keywords</th>\n",
       "      <th>year</th>\n",
       "      <th>roi</th>\n",
       "    </tr>\n",
       "  </thead>\n",
       "  <tbody>\n",
       "    <tr>\n",
       "      <th>0</th>\n",
       "      <td>8.364</td>\n",
       "      <td>34495</td>\n",
       "      <td>2010-07-15</td>\n",
       "      <td>825532764</td>\n",
       "      <td>148</td>\n",
       "      <td>160000000</td>\n",
       "      <td>tt1375666</td>\n",
       "      <td>Cobb, a skilled thief who commits corporate es...</td>\n",
       "      <td>83.952</td>\n",
       "      <td>Your mind is the scene of the crime.</td>\n",
       "      <td>Action, Science Fiction, Adventure</td>\n",
       "      <td>Legendary Pictures, Syncopy, Warner Bros. Pict...</td>\n",
       "      <td>English, French, Japanese, Swahili</td>\n",
       "      <td>rescue, mission, dream, airplane, paris, franc...</td>\n",
       "      <td>2010</td>\n",
       "      <td>5.16</td>\n",
       "    </tr>\n",
       "    <tr>\n",
       "      <th>1</th>\n",
       "      <td>8.417</td>\n",
       "      <td>32571</td>\n",
       "      <td>2014-11-05</td>\n",
       "      <td>701729206</td>\n",
       "      <td>169</td>\n",
       "      <td>165000000</td>\n",
       "      <td>tt0816692</td>\n",
       "      <td>The adventures of a group of explorers who mak...</td>\n",
       "      <td>140.241</td>\n",
       "      <td>Mankind was born on Earth. It was never meant ...</td>\n",
       "      <td>Adventure, Drama, Science Fiction</td>\n",
       "      <td>Legendary Pictures, Syncopy, Lynda Obst Produc...</td>\n",
       "      <td>English</td>\n",
       "      <td>rescue, future, spacecraft, race against time,...</td>\n",
       "      <td>2014</td>\n",
       "      <td>4.25</td>\n",
       "    </tr>\n",
       "    <tr>\n",
       "      <th>2</th>\n",
       "      <td>8.512</td>\n",
       "      <td>30619</td>\n",
       "      <td>2008-07-16</td>\n",
       "      <td>1004558444</td>\n",
       "      <td>152</td>\n",
       "      <td>185000000</td>\n",
       "      <td>tt0468569</td>\n",
       "      <td>Batman raises the stakes in his war on crime. ...</td>\n",
       "      <td>130.643</td>\n",
       "      <td>Welcome to a world without rules.</td>\n",
       "      <td>Drama, Action, Crime, Thriller</td>\n",
       "      <td>DC Comics, Legendary Pictures, Syncopy, Isobel...</td>\n",
       "      <td>English, Mandarin</td>\n",
       "      <td>joker, sadism, chaos, secret identity, crime f...</td>\n",
       "      <td>2008</td>\n",
       "      <td>5.43</td>\n",
       "    </tr>\n",
       "    <tr>\n",
       "      <th>3</th>\n",
       "      <td>7.573</td>\n",
       "      <td>29815</td>\n",
       "      <td>2009-12-15</td>\n",
       "      <td>2923706026</td>\n",
       "      <td>162</td>\n",
       "      <td>237000000</td>\n",
       "      <td>tt0499549</td>\n",
       "      <td>In the 22nd century, a paraplegic Marine is di...</td>\n",
       "      <td>79.932</td>\n",
       "      <td>Enter the world of Pandora.</td>\n",
       "      <td>Action, Adventure, Fantasy, Science Fiction</td>\n",
       "      <td>Dune Entertainment, Lightstorm Entertainment, ...</td>\n",
       "      <td>English, Spanish</td>\n",
       "      <td>future, society, culture clash, space travel, ...</td>\n",
       "      <td>2009</td>\n",
       "      <td>12.34</td>\n",
       "    </tr>\n",
       "    <tr>\n",
       "      <th>4</th>\n",
       "      <td>7.710</td>\n",
       "      <td>29166</td>\n",
       "      <td>2012-04-25</td>\n",
       "      <td>1518815515</td>\n",
       "      <td>143</td>\n",
       "      <td>220000000</td>\n",
       "      <td>tt0848228</td>\n",
       "      <td>When an unexpected enemy emerges and threatens...</td>\n",
       "      <td>98.082</td>\n",
       "      <td>Some assembly required.</td>\n",
       "      <td>Science Fiction, Action, Adventure</td>\n",
       "      <td>Marvel Studios</td>\n",
       "      <td>English, Hindi, Russian</td>\n",
       "      <td>new york city, superhero, shield, based on com...</td>\n",
       "      <td>2012</td>\n",
       "      <td>6.90</td>\n",
       "    </tr>\n",
       "  </tbody>\n",
       "</table>\n",
       "</div>"
      ],
      "text/plain": [
       "   vote_average  vote_count release_date     revenue  runtime     budget  \\\n",
       "0         8.364       34495   2010-07-15   825532764      148  160000000   \n",
       "1         8.417       32571   2014-11-05   701729206      169  165000000   \n",
       "2         8.512       30619   2008-07-16  1004558444      152  185000000   \n",
       "3         7.573       29815   2009-12-15  2923706026      162  237000000   \n",
       "4         7.710       29166   2012-04-25  1518815515      143  220000000   \n",
       "\n",
       "     imdb_id                                           overview  popularity  \\\n",
       "0  tt1375666  Cobb, a skilled thief who commits corporate es...      83.952   \n",
       "1  tt0816692  The adventures of a group of explorers who mak...     140.241   \n",
       "2  tt0468569  Batman raises the stakes in his war on crime. ...     130.643   \n",
       "3  tt0499549  In the 22nd century, a paraplegic Marine is di...      79.932   \n",
       "4  tt0848228  When an unexpected enemy emerges and threatens...      98.082   \n",
       "\n",
       "                                             tagline  \\\n",
       "0               Your mind is the scene of the crime.   \n",
       "1  Mankind was born on Earth. It was never meant ...   \n",
       "2                  Welcome to a world without rules.   \n",
       "3                        Enter the world of Pandora.   \n",
       "4                            Some assembly required.   \n",
       "\n",
       "                                        genres  \\\n",
       "0           Action, Science Fiction, Adventure   \n",
       "1            Adventure, Drama, Science Fiction   \n",
       "2               Drama, Action, Crime, Thriller   \n",
       "3  Action, Adventure, Fantasy, Science Fiction   \n",
       "4           Science Fiction, Action, Adventure   \n",
       "\n",
       "                                production_companies  \\\n",
       "0  Legendary Pictures, Syncopy, Warner Bros. Pict...   \n",
       "1  Legendary Pictures, Syncopy, Lynda Obst Produc...   \n",
       "2  DC Comics, Legendary Pictures, Syncopy, Isobel...   \n",
       "3  Dune Entertainment, Lightstorm Entertainment, ...   \n",
       "4                                     Marvel Studios   \n",
       "\n",
       "                     spoken_languages  \\\n",
       "0  English, French, Japanese, Swahili   \n",
       "1                             English   \n",
       "2                   English, Mandarin   \n",
       "3                    English, Spanish   \n",
       "4             English, Hindi, Russian   \n",
       "\n",
       "                                            keywords  year    roi  \n",
       "0  rescue, mission, dream, airplane, paris, franc...  2010   5.16  \n",
       "1  rescue, future, spacecraft, race against time,...  2014   4.25  \n",
       "2  joker, sadism, chaos, secret identity, crime f...  2008   5.43  \n",
       "3  future, society, culture clash, space travel, ...  2009  12.34  \n",
       "4  new york city, superhero, shield, based on com...  2012   6.90  "
      ]
     },
     "execution_count": 15,
     "metadata": {},
     "output_type": "execute_result"
    }
   ],
   "source": [
    "\n",
    "# sorted_df = sorted_df[(sorted_df['release_date'] >= '2014-01-01') & (sorted_df['release_date'] <= '2024-12-12')]\n",
    "\n",
    "df2['roi'] = round(df2['revenue'] / df2['budget'], 2)\n",
    "df2.head(5)"
   ]
  },
  {
   "cell_type": "code",
   "execution_count": 16,
   "metadata": {},
   "outputs": [
    {
     "name": "stdout",
     "output_type": "stream",
     "text": [
      "0.8\n",
      "10.0\n",
      "1\n",
      "34495\n"
     ]
    },
    {
     "data": {
      "text/plain": [
       "vote_average            10910\n",
       "vote_count              10910\n",
       "release_date            10690\n",
       "revenue                 10910\n",
       "runtime                 10910\n",
       "budget                  10910\n",
       "imdb_id                 10122\n",
       "overview                10559\n",
       "popularity              10910\n",
       "tagline                  8423\n",
       "genres                  10693\n",
       "production_companies    10147\n",
       "spoken_languages        10443\n",
       "keywords                 9463\n",
       "year                    10910\n",
       "roi                     10910\n",
       "dtype: int64"
      ]
     },
     "execution_count": 16,
     "metadata": {},
     "output_type": "execute_result"
    }
   ],
   "source": [
    "print(df2['vote_average'].min())\n",
    "print(df2['vote_average'].max())\n",
    "print(df2['vote_count'].min())\n",
    "print(df2['vote_count'].max())\n",
    "df2.count()"
   ]
  },
  {
   "cell_type": "code",
   "execution_count": 17,
   "metadata": {},
   "outputs": [],
   "source": [
    "#Bayesian average is a statistical method used to estimate the true rating of a movie, \n",
    "#taking into account both the average rating and the number of votes. \n",
    "#It helps mitigate the impact of outliers and provides a more reliable estimate.\n",
    "\n",
    "# Bayesian Average = (vote_count * vote_average + min_count * mean) / (vote_count + min_count)\n",
    "# v is the number of votes for the movie\n",
    "# R is the average rating of the movie   \n",
    "# m is the minimum votes required to be listed in the chart\n",
    "# C is the mean vote across the whole dataset\n",
    "\n",
    "C = df2['vote_average'].mean()\n",
    "m = df2['vote_count'].quantile(0.75)\n",
    "\n",
    "\n",
    "def weighted_rating(x):\n",
    "    # Add a small epsilon to prevent division by zero\n",
    "    epsilon = 1e-10\n",
    "    v = x['vote_count']\n",
    "    R = x['vote_average']\n",
    "    \n",
    "    # Compute the weighted rating safely\n",
    "    denominator = v + m + epsilon\n",
    "    return (v / denominator * R) + (m / denominator * C)\n",
    "\n",
    "df2.loc[:, 'weighted_rating'] = df2.apply(weighted_rating, axis=1)"
   ]
  },
  {
   "cell_type": "code",
   "execution_count": 18,
   "metadata": {},
   "outputs": [
    {
     "data": {
      "image/png": "[encoded data removed]",
      "text/plain": [
       "<Figure size 640x480 with 1 Axes>"
      ]
     },
     "metadata": {},
     "output_type": "display_data"
    }
   ],
   "source": [
    "# Visualize the distribution of Bayesian average ratings\n",
    "sns.histplot(df2['vote_average'], kde=True)\n",
    "plt.title('Distribution of Bayesian Average Ratings')\n",
    "plt.xlabel('Bayesian Average Rating')\n",
    "plt.ylabel('Count')\n",
    "plt.show()"
   ]
  },
  {
   "cell_type": "code",
   "execution_count": 89,
   "metadata": {},
   "outputs": [
    {
     "data": {
      "image/png": "[encoded data removed]",
      "text/plain": [
       "<Figure size 640x480 with 1 Axes>"
      ]
     },
     "metadata": {},
     "output_type": "display_data"
    }
   ],
   "source": [
    "# Visualize the distribution of Bayesian average ratings\n",
    "sns.histplot(df2['weighted_rating'], kde=True, bins=10, color='blue', edgecolor='black')\n",
    "plt.title('Distribution of Bayesian Average Ratings')\n",
    "plt.xlabel('Bayesian Average Rating')\n",
    "plt.ylabel('Count')\n",
    "plt.show()\n",
    "\n"
   ]
  },
  {
   "cell_type": "code",
   "execution_count": null,
   "metadata": {},
   "outputs": [],
   "source": [
    "# Create a subplot with two histograms\n",
    "plt.subplot(1, 2, 1)  # (rows, columns, position)\n",
    "sns.histplot(df2['weighted_rating'], kde=True, color='blue', edgecolor='black')\n",
    "plt.title('Distribution of Bayesian Average Ratings')\n",
    "plt.xlabel('Bayesian Average Rating')\n",
    "plt.ylabel('Count')\n",
    "\n",
    "plt.subplot(1, 2, 2)\n",
    "sns.histplot(df2['roi'], kde=True, color='orange', edgecolor='black')\n",
    "plt.title('Distribution of ROI')\n",
    "plt.xlabel('ROI')\n",
    "plt.ylabel('Count')\n",
    "\n",
    "plt.show()"
   ]
  },
  {
   "cell_type": "code",
   "execution_count": 83,
   "metadata": {},
   "outputs": [],
   "source": [
    "import requests\n",
    "\n",
    "def get_movie_name(imdb_id):\n",
    "    # Base URL for the OMDb API\n",
    "    base_url = \"http://www.omdbapi.com/\"\n",
    "    api_key = \"c1d0cce2\"\n",
    "    \n",
    "    # Parameters for the API call\n",
    "    params = {\n",
    "        'i': imdb_id,  # IMDb ID\n",
    "        'apikey': api_key  # Your API Key\n",
    "    }\n",
    "    \n",
    "    # Make the GET request\n",
    "    response = requests.get(base_url, params=params)\n",
    "    \n",
    "    # Check if the request was successful\n",
    "    if response.status_code == 200:\n",
    "        data = response.json()  # Parse JSON response\n",
    "        if data.get(\"Response\") == \"True\":\n",
    "            return data.get(\"Title\")  # Return the movie name\n",
    "        else:\n",
    "            return f\"Error: {data.get('Error')}\"  # Return error message from API\n",
    "    else:\n",
    "        return f\"HTTP Error: {response.status_code}\"\n",
    "\n"
   ]
  },
  {
   "cell_type": "code",
   "execution_count": 84,
   "metadata": {},
   "outputs": [
    {
     "data": {
      "image/png": "[encoded data removed]",
      "text/plain": [
       "<Figure size 640x480 with 1 Axes>"
      ]
     },
     "metadata": {},
     "output_type": "display_data"
    }
   ],
   "source": [
    "# Plot top 10 movies by Bayesian average\n",
    "top_10 = df2.sort_values('weighted_rating', ascending=False).head(10)\n",
    "top_10['movie_name'] = top_10['imdb_id'].apply(lambda x: get_movie_name(x))\n",
    "top_10.reset_index().head(20)\n",
    "sns.barplot(x='weighted_rating', y='movie_name', data=top_10)\n",
    "plt.title('Top 10 Movies by Bayesian Average Rating')\n",
    "plt.xlabel('Bayesian Average Rating')\n",
    "plt.ylabel('Movie Title')\n",
    "plt.show()"
   ]
  },
  {
   "cell_type": "code",
   "execution_count": null,
   "metadata": {},
   "outputs": [],
   "source": []
  }
 ],
 "metadata": {
  "kernelspec": {
   "display_name": "dev",
   "language": "python",
   "name": "dev"
  },
  "language_info": {
   "codemirror_mode": {
    "name": "ipython",
    "version": 3
   },
   "file_extension": ".py",
   "mimetype": "text/x-python",
   "name": "python",
   "nbconvert_exporter": "python",
   "pygments_lexer": "ipython3",
   "version": "3.10.15"
  }
 },
 "nbformat": 4,
 "nbformat_minor": 4
}
