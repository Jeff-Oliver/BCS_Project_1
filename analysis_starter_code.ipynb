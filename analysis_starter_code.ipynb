{
 "cells": [
  {
   "cell_type": "code",
   "execution_count": null,
   "metadata": {},
   "outputs": [
    {
     "data": {
      "text/plain": [
       "(64432, 13)"
      ]
     },
     "execution_count": 1,
     "metadata": {},
     "output_type": "execute_result"
    }
   ],
   "source": [
    "# Import dependencies\n",
    "import matplotlib.pyplot as plt\n",
    "import pandas as pd\n",
    "\n",
    "# Read Dataframe\n",
    "tmdb_df = pd.read_csv('tmdb_df.csv')\n",
    "\n",
    "# Convert \"release_date\" to datetime\n",
    "tmdb_df['release_date'] = pd.to_datetime(tmdb_df['release_date'])\n",
    "\n",
    "# Separate the genres to a list\n",
    "tmdb_df['genres'] = tmdb_df['genres'].str.split(', ')\n",
    "\n",
    "tmdb_df.shape\n"
   ]
  }
 ],
 "metadata": {
  "kernelspec": {
   "display_name": "dev",
   "language": "python",
   "name": "python3"
  },
  "language_info": {
   "codemirror_mode": {
    "name": "ipython",
    "version": 3
   },
   "file_extension": ".py",
   "mimetype": "text/x-python",
   "name": "python",
   "nbconvert_exporter": "python",
   "pygments_lexer": "ipython3",
   "version": "3.10.15"
  }
 },
 "nbformat": 4,
 "nbformat_minor": 2
}
