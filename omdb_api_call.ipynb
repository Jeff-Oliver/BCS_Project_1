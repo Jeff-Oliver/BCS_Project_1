{
 "cells": [
  {
   "cell_type": "code",
   "execution_count": null,
   "metadata": {},
   "outputs": [],
   "source": [
    "omd_api_key = os.getenv(\"OMD_API_KEY\")\n",
    "type(omd_api_key)\n",
    "\n",
    "base_url = 'http://www.omdbapi.com/?apikey='\n",
    "\n",
    "# title use t=blade+runner\n",
    "# year??\n",
    "# test = 't=blade+runner'\n",
    "test = 'page=50'\n",
    "\n",
    "# OMDB APT Call\n",
    "query_url = f\"{base_url}{omd_api_key}&{test}\"\n",
    "\n",
    "response = requests.get(query_url)\n",
    "# print(response)\n",
    "\n",
    "# Format data as JSON\n",
    "data = response.json()\n",
    "\n",
    "# Use json.dumps with argument indent=4 to format data\n",
    "print(json.dumps(data, indent=4))"
   ]
  }
 ],
 "metadata": {
  "language_info": {
   "name": "python"
  }
 },
 "nbformat": 4,
 "nbformat_minor": 2
}
